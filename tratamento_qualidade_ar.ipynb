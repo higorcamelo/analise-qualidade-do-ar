{
 "cells": [
  {
   "cell_type": "code",
   "execution_count": 77,
   "metadata": {},
   "outputs": [],
   "source": [
    "import geopandas as gpd\n",
    "import pandas as pd\n",
    "import numpy as np\n",
    "from shapely.geometry import Point\n",
    "\n",
    "df = pd.read_excel('data/world_air_quality.xlsx')"
   ]
  },
  {
   "cell_type": "code",
   "execution_count": 78,
   "metadata": {},
   "outputs": [
    {
     "data": {
      "text/html": [
       "<div>\n",
       "<style scoped>\n",
       "    .dataframe tbody tr th:only-of-type {\n",
       "        vertical-align: middle;\n",
       "    }\n",
       "\n",
       "    .dataframe tbody tr th {\n",
       "        vertical-align: top;\n",
       "    }\n",
       "\n",
       "    .dataframe thead th {\n",
       "        text-align: right;\n",
       "    }\n",
       "</style>\n",
       "<table border=\"1\" class=\"dataframe\">\n",
       "  <thead>\n",
       "    <tr style=\"text-align: right;\">\n",
       "      <th></th>\n",
       "      <th>Country Code</th>\n",
       "      <th>City</th>\n",
       "      <th>Location</th>\n",
       "      <th>Coordinates</th>\n",
       "      <th>Pollutant</th>\n",
       "      <th>Source Name</th>\n",
       "      <th>Unit</th>\n",
       "      <th>Value</th>\n",
       "      <th>Last Updated</th>\n",
       "      <th>Country Label</th>\n",
       "    </tr>\n",
       "  </thead>\n",
       "  <tbody>\n",
       "    <tr>\n",
       "      <th>0</th>\n",
       "      <td>DE</td>\n",
       "      <td>Moselle</td>\n",
       "      <td>FR22054</td>\n",
       "      <td>49.1874042196733, 6.91086524487126</td>\n",
       "      <td>PM10</td>\n",
       "      <td>EEA France</td>\n",
       "      <td>µg/m³</td>\n",
       "      <td>6.60000</td>\n",
       "      <td>2023-10-31T02:00:00+00:00</td>\n",
       "      <td>Germany</td>\n",
       "    </tr>\n",
       "    <tr>\n",
       "      <th>1</th>\n",
       "      <td>DE</td>\n",
       "      <td>Niedersachsen</td>\n",
       "      <td>DENI051</td>\n",
       "      <td>51.75816, 10.61248</td>\n",
       "      <td>NO</td>\n",
       "      <td>EEA Germany</td>\n",
       "      <td>µg/m³</td>\n",
       "      <td>0.14721</td>\n",
       "      <td>2023-10-31T04:00:00+00:00</td>\n",
       "      <td>Germany</td>\n",
       "    </tr>\n",
       "    <tr>\n",
       "      <th>2</th>\n",
       "      <td>DE</td>\n",
       "      <td>Sachsen</td>\n",
       "      <td>DESN001</td>\n",
       "      <td>50.570872, 12.997278</td>\n",
       "      <td>NO</td>\n",
       "      <td>EEA Germany</td>\n",
       "      <td>µg/m³</td>\n",
       "      <td>1.00000</td>\n",
       "      <td>2023-10-31T04:00:00+00:00</td>\n",
       "      <td>Germany</td>\n",
       "    </tr>\n",
       "    <tr>\n",
       "      <th>3</th>\n",
       "      <td>DE</td>\n",
       "      <td>Baden-Württemberg</td>\n",
       "      <td>DEBW052</td>\n",
       "      <td>47.664361, 9.169289</td>\n",
       "      <td>PM2.5</td>\n",
       "      <td>EEA Germany</td>\n",
       "      <td>µg/m³</td>\n",
       "      <td>2.00000</td>\n",
       "      <td>2023-10-31T04:00:00+00:00</td>\n",
       "      <td>Germany</td>\n",
       "    </tr>\n",
       "    <tr>\n",
       "      <th>4</th>\n",
       "      <td>DE</td>\n",
       "      <td>Baden-Württemberg</td>\n",
       "      <td>DEBW080</td>\n",
       "      <td>49.00796, 8.38719</td>\n",
       "      <td>PM10</td>\n",
       "      <td>EEA Germany</td>\n",
       "      <td>µg/m³</td>\n",
       "      <td>4.30000</td>\n",
       "      <td>2023-10-31T04:00:00+00:00</td>\n",
       "      <td>Germany</td>\n",
       "    </tr>\n",
       "  </tbody>\n",
       "</table>\n",
       "</div>"
      ],
      "text/plain": [
       "  Country Code               City Location  \\\n",
       "0           DE            Moselle  FR22054   \n",
       "1           DE      Niedersachsen  DENI051   \n",
       "2           DE            Sachsen  DESN001   \n",
       "3           DE  Baden-Württemberg  DEBW052   \n",
       "4           DE  Baden-Württemberg  DEBW080   \n",
       "\n",
       "                          Coordinates Pollutant  Source Name   Unit    Value  \\\n",
       "0  49.1874042196733, 6.91086524487126      PM10   EEA France  µg/m³  6.60000   \n",
       "1                  51.75816, 10.61248        NO  EEA Germany  µg/m³  0.14721   \n",
       "2                50.570872, 12.997278        NO  EEA Germany  µg/m³  1.00000   \n",
       "3                 47.664361, 9.169289     PM2.5  EEA Germany  µg/m³  2.00000   \n",
       "4                   49.00796, 8.38719      PM10  EEA Germany  µg/m³  4.30000   \n",
       "\n",
       "                Last Updated Country Label  \n",
       "0  2023-10-31T02:00:00+00:00       Germany  \n",
       "1  2023-10-31T04:00:00+00:00       Germany  \n",
       "2  2023-10-31T04:00:00+00:00       Germany  \n",
       "3  2023-10-31T04:00:00+00:00       Germany  \n",
       "4  2023-10-31T04:00:00+00:00       Germany  "
      ]
     },
     "execution_count": 78,
     "metadata": {},
     "output_type": "execute_result"
    }
   ],
   "source": [
    "df.head() "
   ]
  },
  {
   "cell_type": "code",
   "execution_count": 79,
   "metadata": {},
   "outputs": [
    {
     "name": "stdout",
     "output_type": "stream",
     "text": [
      "Country Code         0\n",
      "City             23180\n",
      "Location             2\n",
      "Coordinates        219\n",
      "Pollutant            0\n",
      "Source Name          0\n",
      "Unit                 0\n",
      "Value                0\n",
      "Last Updated         0\n",
      "Country Label      115\n",
      "dtype: int64\n",
      "Country Code      object\n",
      "City              object\n",
      "Location          object\n",
      "Coordinates       object\n",
      "Pollutant         object\n",
      "Source Name       object\n",
      "Unit              object\n",
      "Value            float64\n",
      "Last Updated      object\n",
      "Country Label     object\n",
      "dtype: object\n",
      "      Country Code                             City            Location  \\\n",
      "8               DE                    Niedersachsen             DENI028   \n",
      "193             DE              Nordrhein-Westfalen             DENW059   \n",
      "196             DE              Nordrhein-Westfalen             DENW053   \n",
      "482             US                        Knoxville            LOUDONMS   \n",
      "568             US                        CA8 - ARB           MMCA81006   \n",
      "...            ...                              ...                 ...   \n",
      "49497           ZA                     Gert Sibande  Elandsfontein-NAQI   \n",
      "49528           ZA                         Nkangala           Masakhane   \n",
      "49532           ZA                  City of Tshwane            Booysens   \n",
      "50069           TR                            Aydın             7 Eylül   \n",
      "50140           US  Washington-Arlington-Alexandria           FRANCONIA   \n",
      "\n",
      "                       Coordinates Pollutant   Source Name   Unit       Value  \\\n",
      "8               51.50758, 10.23854        NO   EEA Germany  µg/m³   -0.030055   \n",
      "193            50.889814, 6.985164        NO   EEA Germany  µg/m³   -0.062000   \n",
      "196    51.01934500000001, 6.884636      PM10   EEA Germany  µg/m³   -0.856000   \n",
      "482              35.7197, -84.3417     PM2.5        AirNow  µg/m³   -2.000000   \n",
      "568         41.839188, -122.851202     PM2.5        AirNow  µg/m³   -2.000000   \n",
      "...                            ...       ...           ...    ...         ...   \n",
      "49497        -26.245481, 29.417328       NOX  South Africa    ppm   -0.060745   \n",
      "49528         -25.97255, 29.313231       SO2  South Africa    ppm   -0.609223   \n",
      "49532         -25.71365, 28.132096        O3  South Africa    ppm   -0.000739   \n",
      "50069                          NaN      PM10        Turkey  µg/m³ -101.000000   \n",
      "50140          38.77335, -77.10468       SO2        AirNow    ppm   -0.000100   \n",
      "\n",
      "                    Last Updated  Country Label  \n",
      "8      2023-10-31T04:00:00+00:00        Germany  \n",
      "193    2023-10-31T04:00:00+00:00        Germany  \n",
      "196    2023-10-31T04:00:00+00:00        Germany  \n",
      "482    2023-05-30T23:00:00+00:00  United States  \n",
      "568    2019-12-12T20:00:00+00:00  United States  \n",
      "...                          ...            ...  \n",
      "49497  2023-05-29T21:00:00+00:00   South Africa  \n",
      "49528  2022-07-12T21:00:00+00:00   South Africa  \n",
      "49532  2022-05-25T13:00:00+00:00   South Africa  \n",
      "50069  2016-12-28T16:00:00+00:00         Turkey  \n",
      "50140  2023-05-30T23:00:00+00:00  United States  \n",
      "\n",
      "[615 rows x 10 columns]\n"
     ]
    }
   ],
   "source": [
    "# Tratamento de dados\n",
    "print(df.isnull().sum()) # Verificar valores nulos\n",
    "print(df.dtypes) # Alterar Last Update para datetime, Coordinates para geometry\n",
    "# Verificar valores neagtivos em \"Value\"\n",
    "print(df[df['Value'] < 0])"
   ]
  },
  {
   "cell_type": "code",
   "execution_count": 80,
   "metadata": {},
   "outputs": [],
   "source": [
    "# Descartar as linhas de coordenadas nulas\n",
    "df = df.dropna(subset=['Coordinates'])\n",
    "# Descartar as linhas de valores negativos\n",
    "df = df[df['Value'] >= 0]"
   ]
  },
  {
   "cell_type": "code",
   "execution_count": 81,
   "metadata": {},
   "outputs": [
    {
     "name": "stdout",
     "output_type": "stream",
     "text": [
      "Outliers:\n",
      "7          75.84000\n",
      "10        256.65600\n",
      "24        100.00000\n",
      "40        500.00000\n",
      "61         77.58907\n",
      "            ...    \n",
      "50062    1000.00000\n",
      "50068      73.00000\n",
      "50249     239.74000\n",
      "50251     145.01000\n",
      "50254     215.39001\n",
      "Name: Value, Length: 6349, dtype: float64\n"
     ]
    }
   ],
   "source": [
    "# Calcular o Intervalo Interquartil (IQR)\n",
    "Q1 = df['Value'].quantile(0.25)\n",
    "Q3 = df['Value'].quantile(0.75)\n",
    "IQR = Q3 - Q1\n",
    "\n",
    "# Definir limites para identificar outliers\n",
    "lower_bound = Q1 - 1.5 * IQR\n",
    "upper_bound = Q3 + 1.5 * IQR\n",
    "\n",
    "# Adicionar coluna \"Outlier\" ao DataFrame indicando se cada entrada é um outlier\n",
    "df['Outlier'] = (df['Value'] < lower_bound) | (df['Value'] > upper_bound)\n",
    "lower_limit = df['Value'].quantile(0.01)\n",
    "upper_limit = df['Value'].quantile(0.99)\n",
    "\n",
    "df['Value'] = np.where(df['Value'] < lower_limit, lower_limit, df['Value'])\n",
    "df['Value'] = np.where(df['Value'] > upper_limit, upper_limit, df['Value'])\n",
    "\n",
    "\n",
    "# Exibir as linhas com os valores que são outliers\n",
    "outliers = df[df['Outlier']]\n",
    "print(\"Outliers:\")\n",
    "print(outliers['Value'])"
   ]
  },
  {
   "cell_type": "code",
   "execution_count": 82,
   "metadata": {},
   "outputs": [],
   "source": [
    "mediana_pais = df.groupby('Country Label')['Value'].median().reset_index()\n",
    "mediana_pais.columns = ['Country Label', 'Median']"
   ]
  },
  {
   "cell_type": "code",
   "execution_count": 83,
   "metadata": {},
   "outputs": [],
   "source": [
    "# Iterar sobre os outliers e substituir os valores pela mediana do país, se disponível\n",
    "for index, row in outliers.iterrows():\n",
    "    pais = row['Country Label']\n",
    "    \n",
    "    # Verificar se o país está presente na tabela de medianas\n",
    "    if pais in mediana_pais['Country Label'].values:\n",
    "        valor_mediana = mediana_pais[mediana_pais['Country Label'] == pais]['Median'].values[0]\n",
    "        df.loc[index, 'Value'] = valor_mediana\n",
    "    else:\n",
    "        # Se o país não estiver na tabela de medianas, substituir pelo valor mediano global\n",
    "        mediana_global = df['Value'].median()\n",
    "        df.loc[index, 'Value'] = mediana_global\n"
   ]
  },
  {
   "cell_type": "code",
   "execution_count": 84,
   "metadata": {},
   "outputs": [],
   "source": [
    "# Tratamento de colunas com valores nulos\n",
    "df['City'].fillna('Não informado', inplace=True)\n",
    "df['Location'].fillna('DESC000', inplace=True)\n",
    "df['Country Label'].fillna('Não informado', inplace=True)"
   ]
  },
  {
   "cell_type": "code",
   "execution_count": 85,
   "metadata": {},
   "outputs": [],
   "source": [
    "# Converter coluna Last Update para datetime\n",
    "df['Last Updated'] = pd.to_datetime(df['Last Updated'])"
   ]
  },
  {
   "cell_type": "code",
   "execution_count": 86,
   "metadata": {},
   "outputs": [],
   "source": [
    "# Dividir coluna Coordinates em Latitude e Longitude\n",
    "df['Latitude'] = df['Coordinates'].apply(lambda x: float(x.split(',')[0]))\n",
    "df['Longitude'] = df['Coordinates'].apply(lambda x: float(x.split(',')[1]))"
   ]
  },
  {
   "cell_type": "code",
   "execution_count": 87,
   "metadata": {},
   "outputs": [],
   "source": [
    "# Criar coluna geometry\n",
    "df['geometry'] = None\n",
    "\n",
    "for index, row in df.iterrows():\n",
    "    df.loc[index, 'geometry'] = Point(row['Longitude'], row['Latitude'])"
   ]
  },
  {
   "cell_type": "code",
   "execution_count": 88,
   "metadata": {},
   "outputs": [],
   "source": [
    "# Seleção de colunas necessárias\n",
    "df = df[['City', 'Pollutant', 'Value', 'Unit', 'Last Updated', 'Country Label','Latitude', 'Longitude' ,'geometry']]"
   ]
  },
  {
   "cell_type": "code",
   "execution_count": 89,
   "metadata": {},
   "outputs": [],
   "source": [
    "# Converter para GeoDataFrame\n",
    "df = gpd.GeoDataFrame(df, geometry='geometry')"
   ]
  },
  {
   "cell_type": "code",
   "execution_count": 90,
   "metadata": {},
   "outputs": [],
   "source": [
    "# Exportação para geojson\n",
    "df.to_file('data/processado/geo_data.geojson', driver='GeoJSON')"
   ]
  }
 ],
 "metadata": {
  "kernelspec": {
   "display_name": ".venv",
   "language": "python",
   "name": "python3"
  },
  "language_info": {
   "codemirror_mode": {
    "name": "ipython",
    "version": 3
   },
   "file_extension": ".py",
   "mimetype": "text/x-python",
   "name": "python",
   "nbconvert_exporter": "python",
   "pygments_lexer": "ipython3",
   "version": "3.9.13"
  }
 },
 "nbformat": 4,
 "nbformat_minor": 2
}
