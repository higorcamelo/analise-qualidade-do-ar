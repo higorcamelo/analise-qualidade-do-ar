{
 "cells": [
  {
   "cell_type": "code",
   "execution_count": 12,
   "metadata": {},
   "outputs": [],
   "source": [
    "import geopandas as gpd\n",
    "import pandas as pd\n",
    "from shapely.geometry import Point\n",
    "\n",
    "df = pd.read_excel('data/world_air_quality.xlsx')"
   ]
  },
  {
   "cell_type": "code",
   "execution_count": 13,
   "metadata": {},
   "outputs": [
    {
     "data": {
      "text/html": [
       "<div>\n",
       "<style scoped>\n",
       "    .dataframe tbody tr th:only-of-type {\n",
       "        vertical-align: middle;\n",
       "    }\n",
       "\n",
       "    .dataframe tbody tr th {\n",
       "        vertical-align: top;\n",
       "    }\n",
       "\n",
       "    .dataframe thead th {\n",
       "        text-align: right;\n",
       "    }\n",
       "</style>\n",
       "<table border=\"1\" class=\"dataframe\">\n",
       "  <thead>\n",
       "    <tr style=\"text-align: right;\">\n",
       "      <th></th>\n",
       "      <th>Country Code</th>\n",
       "      <th>City</th>\n",
       "      <th>Location</th>\n",
       "      <th>Coordinates</th>\n",
       "      <th>Pollutant</th>\n",
       "      <th>Source Name</th>\n",
       "      <th>Unit</th>\n",
       "      <th>Value</th>\n",
       "      <th>Last Updated</th>\n",
       "      <th>Country Label</th>\n",
       "    </tr>\n",
       "  </thead>\n",
       "  <tbody>\n",
       "    <tr>\n",
       "      <th>0</th>\n",
       "      <td>DE</td>\n",
       "      <td>Moselle</td>\n",
       "      <td>FR22054</td>\n",
       "      <td>49.1874042196733, 6.91086524487126</td>\n",
       "      <td>PM10</td>\n",
       "      <td>EEA France</td>\n",
       "      <td>µg/m³</td>\n",
       "      <td>6.60000</td>\n",
       "      <td>2023-10-31T02:00:00+00:00</td>\n",
       "      <td>Germany</td>\n",
       "    </tr>\n",
       "    <tr>\n",
       "      <th>1</th>\n",
       "      <td>DE</td>\n",
       "      <td>Niedersachsen</td>\n",
       "      <td>DENI051</td>\n",
       "      <td>51.75816, 10.61248</td>\n",
       "      <td>NO</td>\n",
       "      <td>EEA Germany</td>\n",
       "      <td>µg/m³</td>\n",
       "      <td>0.14721</td>\n",
       "      <td>2023-10-31T04:00:00+00:00</td>\n",
       "      <td>Germany</td>\n",
       "    </tr>\n",
       "    <tr>\n",
       "      <th>2</th>\n",
       "      <td>DE</td>\n",
       "      <td>Sachsen</td>\n",
       "      <td>DESN001</td>\n",
       "      <td>50.570872, 12.997278</td>\n",
       "      <td>NO</td>\n",
       "      <td>EEA Germany</td>\n",
       "      <td>µg/m³</td>\n",
       "      <td>1.00000</td>\n",
       "      <td>2023-10-31T04:00:00+00:00</td>\n",
       "      <td>Germany</td>\n",
       "    </tr>\n",
       "    <tr>\n",
       "      <th>3</th>\n",
       "      <td>DE</td>\n",
       "      <td>Baden-Württemberg</td>\n",
       "      <td>DEBW052</td>\n",
       "      <td>47.664361, 9.169289</td>\n",
       "      <td>PM2.5</td>\n",
       "      <td>EEA Germany</td>\n",
       "      <td>µg/m³</td>\n",
       "      <td>2.00000</td>\n",
       "      <td>2023-10-31T04:00:00+00:00</td>\n",
       "      <td>Germany</td>\n",
       "    </tr>\n",
       "    <tr>\n",
       "      <th>4</th>\n",
       "      <td>DE</td>\n",
       "      <td>Baden-Württemberg</td>\n",
       "      <td>DEBW080</td>\n",
       "      <td>49.00796, 8.38719</td>\n",
       "      <td>PM10</td>\n",
       "      <td>EEA Germany</td>\n",
       "      <td>µg/m³</td>\n",
       "      <td>4.30000</td>\n",
       "      <td>2023-10-31T04:00:00+00:00</td>\n",
       "      <td>Germany</td>\n",
       "    </tr>\n",
       "  </tbody>\n",
       "</table>\n",
       "</div>"
      ],
      "text/plain": [
       "  Country Code               City Location  \\\n",
       "0           DE            Moselle  FR22054   \n",
       "1           DE      Niedersachsen  DENI051   \n",
       "2           DE            Sachsen  DESN001   \n",
       "3           DE  Baden-Württemberg  DEBW052   \n",
       "4           DE  Baden-Württemberg  DEBW080   \n",
       "\n",
       "                          Coordinates Pollutant  Source Name   Unit    Value  \\\n",
       "0  49.1874042196733, 6.91086524487126      PM10   EEA France  µg/m³  6.60000   \n",
       "1                  51.75816, 10.61248        NO  EEA Germany  µg/m³  0.14721   \n",
       "2                50.570872, 12.997278        NO  EEA Germany  µg/m³  1.00000   \n",
       "3                 47.664361, 9.169289     PM2.5  EEA Germany  µg/m³  2.00000   \n",
       "4                   49.00796, 8.38719      PM10  EEA Germany  µg/m³  4.30000   \n",
       "\n",
       "                Last Updated Country Label  \n",
       "0  2023-10-31T02:00:00+00:00       Germany  \n",
       "1  2023-10-31T04:00:00+00:00       Germany  \n",
       "2  2023-10-31T04:00:00+00:00       Germany  \n",
       "3  2023-10-31T04:00:00+00:00       Germany  \n",
       "4  2023-10-31T04:00:00+00:00       Germany  "
      ]
     },
     "execution_count": 13,
     "metadata": {},
     "output_type": "execute_result"
    }
   ],
   "source": [
    "df.head()"
   ]
  },
  {
   "cell_type": "code",
   "execution_count": 14,
   "metadata": {},
   "outputs": [
    {
     "name": "stdout",
     "output_type": "stream",
     "text": [
      "Country Code         0\n",
      "City             23180\n",
      "Location             2\n",
      "Coordinates        219\n",
      "Pollutant            0\n",
      "Source Name          0\n",
      "Unit                 0\n",
      "Value                0\n",
      "Last Updated         0\n",
      "Country Label      115\n",
      "dtype: int64\n",
      "Country Code      object\n",
      "City              object\n",
      "Location          object\n",
      "Coordinates       object\n",
      "Pollutant         object\n",
      "Source Name       object\n",
      "Unit              object\n",
      "Value            float64\n",
      "Last Updated      object\n",
      "Country Label     object\n",
      "dtype: object\n"
     ]
    }
   ],
   "source": [
    "# Tratamento de dados\n",
    "print(df.isnull().sum()) # Verificar valores nulos\n",
    "print(df.dtypes) # Alterar Last Update para datetime, Coordinates para geometry"
   ]
  },
  {
   "cell_type": "code",
   "execution_count": 15,
   "metadata": {},
   "outputs": [],
   "source": [
    "# Descartar as linhas de coordenadas nulas\n",
    "df = df.dropna(subset=['Coordinates'])"
   ]
  },
  {
   "cell_type": "code",
   "execution_count": 16,
   "metadata": {},
   "outputs": [],
   "source": [
    "# Tratamento de colunas com valores nulos\n",
    "df['City'].fillna('Não informado', inplace=True)\n",
    "df['Location'].fillna('DESC000', inplace=True)\n",
    "df['Country Label'].fillna('Não informado', inplace=True)"
   ]
  },
  {
   "cell_type": "code",
   "execution_count": 17,
   "metadata": {},
   "outputs": [],
   "source": [
    "# Converter coluna Last Update para datetime\n",
    "df['Last Updated'] = pd.to_datetime(df['Last Updated'])"
   ]
  },
  {
   "cell_type": "code",
   "execution_count": 18,
   "metadata": {},
   "outputs": [],
   "source": [
    "# Dividir coluna Coordinates em Latitude e Longitude\n",
    "df['Latitude'] = df['Coordinates'].apply(lambda x: float(x.split(',')[0]))\n",
    "df['Longitude'] = df['Coordinates'].apply(lambda x: float(x.split(',')[1]))"
   ]
  },
  {
   "cell_type": "code",
   "execution_count": 19,
   "metadata": {},
   "outputs": [],
   "source": [
    "# Criar coluna geometry\n",
    "df['geometry'] = None\n",
    "\n",
    "for index, row in df.iterrows():\n",
    "    df.loc[index, 'geometry'] = Point(row['Longitude'], row['Latitude'])"
   ]
  },
  {
   "cell_type": "code",
   "execution_count": 20,
   "metadata": {},
   "outputs": [],
   "source": [
    "# Seleção de colunas necessárias\n",
    "df = df[['City', 'Pollutant', 'Value', 'Unit', 'Last Updated', 'Country Label','Latitude', 'Longitude' ,'geometry']]"
   ]
  },
  {
   "cell_type": "code",
   "execution_count": 21,
   "metadata": {},
   "outputs": [],
   "source": [
    "# Converter para GeoDataFrame\n",
    "df = gpd.GeoDataFrame(df, geometry='geometry')"
   ]
  },
  {
   "cell_type": "code",
   "execution_count": 22,
   "metadata": {},
   "outputs": [],
   "source": [
    "# Exportação para geojson\n",
    "df.to_file('data/processado/geo_data.geojson', driver='GeoJSON')"
   ]
  }
 ],
 "metadata": {
  "kernelspec": {
   "display_name": ".venv",
   "language": "python",
   "name": "python3"
  },
  "language_info": {
   "codemirror_mode": {
    "name": "ipython",
    "version": 3
   },
   "file_extension": ".py",
   "mimetype": "text/x-python",
   "name": "python",
   "nbconvert_exporter": "python",
   "pygments_lexer": "ipython3",
   "version": "3.9.13"
  }
 },
 "nbformat": 4,
 "nbformat_minor": 2
}
